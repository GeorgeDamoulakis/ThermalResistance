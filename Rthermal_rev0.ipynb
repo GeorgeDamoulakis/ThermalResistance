{
 "cells": [
  {
   "cell_type": "code",
   "execution_count": 7,
   "metadata": {},
   "outputs": [],
   "source": [
    "import pandas as pd\n",
    "import numpy as np"
   ]
  },
  {
   "cell_type": "code",
   "execution_count": 2,
   "metadata": {},
   "outputs": [],
   "source": [
    "data = pd.read_csv (r'C://Users//US02244//python_files//Rthermal//p1.csv')"
   ]
  },
  {
   "cell_type": "code",
   "execution_count": 3,
   "metadata": {},
   "outputs": [
    {
     "name": "stdout",
     "output_type": "stream",
     "text": [
      "    Current (A)  Voltage (V)  Optical power (W)  Wavelength (nm)\n",
      "0           NaN          NaN                NaN              NaN\n",
      "1           2.0         1.34               0.95           960.90\n",
      "2           4.0         1.37               3.17           961.77\n",
      "3           6.0         1.39               5.38           962.61\n",
      "4           8.0         1.41               7.56           963.41\n",
      "5          10.0         1.44               9.71           964.27\n",
      "6          12.0         1.45              11.83           965.29\n",
      "7          14.0         1.47              13.89           966.17\n",
      "8          16.0         1.49              15.89           967.21\n",
      "9          18.0         1.50              17.81           968.59\n",
      "10         20.0         1.51              19.70           969.51\n",
      "11         22.0         1.53              21.50           970.66\n",
      "12         24.0         1.54              23.12           972.21\n",
      "13         25.0         1.54              23.95           972.67\n"
     ]
    }
   ],
   "source": [
    "print (data)\n",
    "\n",
    "\n"
   ]
  },
  {
   "cell_type": "code",
   "execution_count": 5,
   "metadata": {},
   "outputs": [],
   "source": [
    "data['WasteHeat_W'] = data['Current (A)'] * data['Voltage (V)']"
   ]
  },
  {
   "cell_type": "code",
   "execution_count": 6,
   "metadata": {},
   "outputs": [
    {
     "name": "stdout",
     "output_type": "stream",
     "text": [
      "    Current (A)  Voltage (V)  Optical power (W)  Wavelength (nm)  WasteHeat_W\n",
      "0           NaN          NaN                NaN              NaN          NaN\n",
      "1           2.0         1.34               0.95           960.90         2.68\n",
      "2           4.0         1.37               3.17           961.77         5.48\n",
      "3           6.0         1.39               5.38           962.61         8.34\n",
      "4           8.0         1.41               7.56           963.41        11.28\n",
      "5          10.0         1.44               9.71           964.27        14.40\n",
      "6          12.0         1.45              11.83           965.29        17.40\n",
      "7          14.0         1.47              13.89           966.17        20.58\n",
      "8          16.0         1.49              15.89           967.21        23.84\n",
      "9          18.0         1.50              17.81           968.59        27.00\n",
      "10         20.0         1.51              19.70           969.51        30.20\n",
      "11         22.0         1.53              21.50           970.66        33.66\n",
      "12         24.0         1.54              23.12           972.21        36.96\n",
      "13         25.0         1.54              23.95           972.67        38.50\n"
     ]
    }
   ],
   "source": [
    "print(data)"
   ]
  },
  {
   "cell_type": "code",
   "execution_count": 18,
   "metadata": {},
   "outputs": [
    {
     "data": {
      "text/html": [
       "<div>\n",
       "<style scoped>\n",
       "    .dataframe tbody tr th:only-of-type {\n",
       "        vertical-align: middle;\n",
       "    }\n",
       "\n",
       "    .dataframe tbody tr th {\n",
       "        vertical-align: top;\n",
       "    }\n",
       "\n",
       "    .dataframe thead th {\n",
       "        text-align: right;\n",
       "    }\n",
       "</style>\n",
       "<table border=\"1\" class=\"dataframe\">\n",
       "  <thead>\n",
       "    <tr style=\"text-align: right;\">\n",
       "      <th></th>\n",
       "      <th>Current (A)</th>\n",
       "      <th>Voltage (V)</th>\n",
       "      <th>Optical power (W)</th>\n",
       "      <th>Wavelength (nm)</th>\n",
       "      <th>WasteHeat_W</th>\n",
       "    </tr>\n",
       "  </thead>\n",
       "  <tbody>\n",
       "    <tr>\n",
       "      <td>1</td>\n",
       "      <td>2.0</td>\n",
       "      <td>1.34</td>\n",
       "      <td>0.95</td>\n",
       "      <td>960.90</td>\n",
       "      <td>2.68</td>\n",
       "    </tr>\n",
       "    <tr>\n",
       "      <td>2</td>\n",
       "      <td>4.0</td>\n",
       "      <td>1.37</td>\n",
       "      <td>3.17</td>\n",
       "      <td>961.77</td>\n",
       "      <td>5.48</td>\n",
       "    </tr>\n",
       "    <tr>\n",
       "      <td>3</td>\n",
       "      <td>6.0</td>\n",
       "      <td>1.39</td>\n",
       "      <td>5.38</td>\n",
       "      <td>962.61</td>\n",
       "      <td>8.34</td>\n",
       "    </tr>\n",
       "    <tr>\n",
       "      <td>4</td>\n",
       "      <td>8.0</td>\n",
       "      <td>1.41</td>\n",
       "      <td>7.56</td>\n",
       "      <td>963.41</td>\n",
       "      <td>11.28</td>\n",
       "    </tr>\n",
       "    <tr>\n",
       "      <td>5</td>\n",
       "      <td>10.0</td>\n",
       "      <td>1.44</td>\n",
       "      <td>9.71</td>\n",
       "      <td>964.27</td>\n",
       "      <td>14.40</td>\n",
       "    </tr>\n",
       "    <tr>\n",
       "      <td>6</td>\n",
       "      <td>12.0</td>\n",
       "      <td>1.45</td>\n",
       "      <td>11.83</td>\n",
       "      <td>965.29</td>\n",
       "      <td>17.40</td>\n",
       "    </tr>\n",
       "    <tr>\n",
       "      <td>7</td>\n",
       "      <td>14.0</td>\n",
       "      <td>1.47</td>\n",
       "      <td>13.89</td>\n",
       "      <td>966.17</td>\n",
       "      <td>20.58</td>\n",
       "    </tr>\n",
       "    <tr>\n",
       "      <td>8</td>\n",
       "      <td>16.0</td>\n",
       "      <td>1.49</td>\n",
       "      <td>15.89</td>\n",
       "      <td>967.21</td>\n",
       "      <td>23.84</td>\n",
       "    </tr>\n",
       "    <tr>\n",
       "      <td>9</td>\n",
       "      <td>18.0</td>\n",
       "      <td>1.50</td>\n",
       "      <td>17.81</td>\n",
       "      <td>968.59</td>\n",
       "      <td>27.00</td>\n",
       "    </tr>\n",
       "    <tr>\n",
       "      <td>10</td>\n",
       "      <td>20.0</td>\n",
       "      <td>1.51</td>\n",
       "      <td>19.70</td>\n",
       "      <td>969.51</td>\n",
       "      <td>30.20</td>\n",
       "    </tr>\n",
       "    <tr>\n",
       "      <td>11</td>\n",
       "      <td>22.0</td>\n",
       "      <td>1.53</td>\n",
       "      <td>21.50</td>\n",
       "      <td>970.66</td>\n",
       "      <td>33.66</td>\n",
       "    </tr>\n",
       "    <tr>\n",
       "      <td>12</td>\n",
       "      <td>24.0</td>\n",
       "      <td>1.54</td>\n",
       "      <td>23.12</td>\n",
       "      <td>972.21</td>\n",
       "      <td>36.96</td>\n",
       "    </tr>\n",
       "    <tr>\n",
       "      <td>13</td>\n",
       "      <td>25.0</td>\n",
       "      <td>1.54</td>\n",
       "      <td>23.95</td>\n",
       "      <td>972.67</td>\n",
       "      <td>38.50</td>\n",
       "    </tr>\n",
       "  </tbody>\n",
       "</table>\n",
       "</div>"
      ],
      "text/plain": [
       "    Current (A)  Voltage (V)  Optical power (W)  Wavelength (nm)  WasteHeat_W\n",
       "1           2.0         1.34               0.95           960.90         2.68\n",
       "2           4.0         1.37               3.17           961.77         5.48\n",
       "3           6.0         1.39               5.38           962.61         8.34\n",
       "4           8.0         1.41               7.56           963.41        11.28\n",
       "5          10.0         1.44               9.71           964.27        14.40\n",
       "6          12.0         1.45              11.83           965.29        17.40\n",
       "7          14.0         1.47              13.89           966.17        20.58\n",
       "8          16.0         1.49              15.89           967.21        23.84\n",
       "9          18.0         1.50              17.81           968.59        27.00\n",
       "10         20.0         1.51              19.70           969.51        30.20\n",
       "11         22.0         1.53              21.50           970.66        33.66\n",
       "12         24.0         1.54              23.12           972.21        36.96\n",
       "13         25.0         1.54              23.95           972.67        38.50"
      ]
     },
     "execution_count": 18,
     "metadata": {},
     "output_type": "execute_result"
    }
   ],
   "source": [
    "df = data.iloc[1: , :]\n",
    "df"
   ]
  },
  {
   "cell_type": "code",
   "execution_count": 25,
   "metadata": {},
   "outputs": [
    {
     "name": "stdout",
     "output_type": "stream",
     "text": [
      "959.7528877722137 0.344088810685303\n"
     ]
    }
   ],
   "source": [
    "y = df['Wavelength (nm)']\n",
    "x = df['WasteHeat_W']\n",
    "slope_intercept = np.polyfit(x,y,1)\n",
    "intercept = slope_intercept[1]\n",
    "ColdWL_cst = 0.344088810685303\n",
    "print(intercept, ColdWL_cst)"
   ]
  },
  {
   "cell_type": "code",
   "execution_count": 28,
   "metadata": {},
   "outputs": [
    {
     "name": "stderr",
     "output_type": "stream",
     "text": [
      "C:\\Users\\US02244\\AppData\\Local\\Continuum\\anaconda3\\lib\\site-packages\\ipykernel_launcher.py:1: SettingWithCopyWarning: \n",
      "A value is trying to be set on a copy of a slice from a DataFrame.\n",
      "Try using .loc[row_indexer,col_indexer] = value instead\n",
      "\n",
      "See the caveats in the documentation: http://pandas.pydata.org/pandas-docs/stable/user_guide/indexing.html#returning-a-view-versus-a-copy\n",
      "  \"\"\"Entry point for launching an IPython kernel.\n"
     ]
    }
   ],
   "source": [
    "df['intercept_col'] = [intercept, intercept, intercept, intercept,intercept ,intercept,intercept,intercept,intercept,intercept,intercept,intercept,intercept]"
   ]
  },
  {
   "cell_type": "code",
   "execution_count": 27,
   "metadata": {},
   "outputs": [],
   "source": [
    "#df['TempChange_C'] = (df['Wavelength (nm)'] - intercept)/ColdWL_cst"
   ]
  },
  {
   "cell_type": "code",
   "execution_count": null,
   "metadata": {},
   "outputs": [],
   "source": []
  },
  {
   "cell_type": "code",
   "execution_count": null,
   "metadata": {},
   "outputs": [],
   "source": []
  }
 ],
 "metadata": {
  "kernelspec": {
   "display_name": "Python 3",
   "language": "python",
   "name": "python3"
  },
  "language_info": {
   "codemirror_mode": {
    "name": "ipython",
    "version": 3
   },
   "file_extension": ".py",
   "mimetype": "text/x-python",
   "name": "python",
   "nbconvert_exporter": "python",
   "pygments_lexer": "ipython3",
   "version": "3.7.4"
  }
 },
 "nbformat": 4,
 "nbformat_minor": 2
}
