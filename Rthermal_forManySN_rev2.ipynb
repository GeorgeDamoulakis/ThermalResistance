{
 "cells": [
  {
   "cell_type": "markdown",
   "metadata": {},
   "source": [
    "this script takes input for many SerialNumbers and gives out their thermal resistance"
   ]
  },
  {
   "cell_type": "code",
   "execution_count": 1,
   "metadata": {},
   "outputs": [],
   "source": [
    "import pandas as pd\n",
    "import numpy as np\n",
    "from pathlib import Path "
   ]
  },
  {
   "cell_type": "code",
   "execution_count": 2,
   "metadata": {},
   "outputs": [],
   "source": [
    "def find_coeff(fWavelength):\n",
    "    if (fWavelength >= 630) and (fWavelength < 808):\n",
    "        ffnWaveTempCoeff = 0.000751445 * fWavelength - 0.32716763\n",
    "    elif (fWavelength >= 808) and (fWavelength <= 1600):\n",
    "        ffnWaveTempCoeff = 0.000419162 * fWavelength - 0.058682635 \n",
    "    else:\n",
    "        ffnWaveTempCoeff = -1 \n",
    "\n",
    "    return ffnWaveTempCoeff"
   ]
  },
  {
   "cell_type": "markdown",
   "metadata": {},
   "source": [
    "create the Thermal Resistance function"
   ]
  },
  {
   "cell_type": "code",
   "execution_count": 3,
   "metadata": {},
   "outputs": [],
   "source": [
    "def findingRthermal(data):\n",
    "    data['WaveLength_nm'] = data['WaveLength'] * 1000000000\n",
    "    data['WasteHeat_W'] = (data['Current'] * data['Voltage']) - data['Optical']\n",
    "\n",
    "    y = data['WaveLength_nm']\n",
    "    x = data['WasteHeat_W']\n",
    "    slope_intercept = np.polyfit(x,y,1)\n",
    "\n",
    "    intercept = slope_intercept[1]\n",
    "    \n",
    "    firstWL = data['WaveLength_nm'].iat[0]\n",
    "    #print(firstWL)\n",
    "    ColdWL_cst = find_coeff(firstWL)\n",
    "    #print(ColdWL_cst)\n",
    "\n",
    "    data.loc[:,'intercept'] = intercept\n",
    "    data.loc[:,'ColdWL_cst'] = ColdWL_cst\n",
    "\n",
    "\n",
    "\n",
    "    data.loc[:,'Temp_Change_C'] = ( data['WaveLength_nm'] - data['intercept'] ) / data['ColdWL_cst'] \n",
    "\n",
    "    #ata\n",
    "    y1 = data['Temp_Change_C']\n",
    "    x1 = data['WasteHeat_W']\n",
    "\n",
    "    slope_intercept_1 = np.polyfit(x1,y1,1)\n",
    "    slope_intercept_1\n",
    "    Thermal_resistance = slope_intercept_1[0]\n",
    "\n",
    "    #print('Thermal Resistance =', round( Thermal_resistance, 2 ) , ' degC / W') \n",
    "    return round( Thermal_resistance, 2 )"
   ]
  },
  {
   "cell_type": "markdown",
   "metadata": {},
   "source": [
    "Import the CSV"
   ]
  },
  {
   "cell_type": "code",
   "execution_count": 4,
   "metadata": {},
   "outputs": [],
   "source": [
    "data = pd.read_csv (r'C://Users//US02244//python_files//Rthermal//p2.csv')\n",
    "#data"
   ]
  },
  {
   "cell_type": "markdown",
   "metadata": {},
   "source": [
    "Split the big data file in smaller pieces by SN"
   ]
  },
  {
   "cell_type": "code",
   "execution_count": 5,
   "metadata": {},
   "outputs": [],
   "source": [
    "grouped = data.groupby(['SN'])\n",
    "l_grouped = list(grouped)\n",
    "groups_list_length = len(l_grouped)\n",
    "#len(l_grouped)\n",
    "# now we created groups by SN and those groups are in a list\n",
    "#a = l_grouped[0][1]\n",
    "#f = a['SN'].iat[0]\n",
    "#f"
   ]
  },
  {
   "cell_type": "code",
   "execution_count": 6,
   "metadata": {},
   "outputs": [],
   "source": [
    "df = pd.DataFrame([])"
   ]
  },
  {
   "cell_type": "code",
   "execution_count": 7,
   "metadata": {},
   "outputs": [],
   "source": [
    "for i in range(len(l_grouped)):\n",
    "    a = l_grouped[i][1]['SN'].iat[0]\n",
    "    b = findingRthermal( l_grouped[i][1] )\n",
    "    df[i] = [a, b]\n",
    "    "
   ]
  },
  {
   "cell_type": "code",
   "execution_count": 8,
   "metadata": {},
   "outputs": [],
   "source": [
    "final_table = df.T\n",
    "filepath = Path('C://Users//US02244//python_files//Rthermal//file_will_all_Rth_2.csv')  \n",
    "filepath.parent.mkdir(parents=True, exist_ok=True)  \n",
    "final_table.to_csv(filepath) "
   ]
  },
  {
   "cell_type": "code",
   "execution_count": null,
   "metadata": {},
   "outputs": [],
   "source": []
  },
  {
   "cell_type": "code",
   "execution_count": null,
   "metadata": {},
   "outputs": [],
   "source": []
  }
 ],
 "metadata": {
  "kernelspec": {
   "display_name": "Python 3",
   "language": "python",
   "name": "python3"
  },
  "language_info": {
   "codemirror_mode": {
    "name": "ipython",
    "version": 3
   },
   "file_extension": ".py",
   "mimetype": "text/x-python",
   "name": "python",
   "nbconvert_exporter": "python",
   "pygments_lexer": "ipython3",
   "version": "3.7.4"
  }
 },
 "nbformat": 4,
 "nbformat_minor": 2
}
